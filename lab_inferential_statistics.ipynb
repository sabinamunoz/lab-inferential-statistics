{
  "nbformat": 4,
  "nbformat_minor": 0,
  "metadata": {
    "colab": {
      "provenance": [],
      "mount_file_id": "1GUuFyf0Cpk-uHbBMZT9oLY4pBCar8XGc",
      "authorship_tag": "ABX9TyMrnu90JefxV87BhO0JYzmC",
      "include_colab_link": true
    },
    "kernelspec": {
      "name": "python3",
      "display_name": "Python 3"
    },
    "language_info": {
      "name": "python"
    }
  },
  "cells": [
    {
      "cell_type": "markdown",
      "metadata": {
        "id": "view-in-github",
        "colab_type": "text"
      },
      "source": [
        "<a href=\"https://colab.research.google.com/github/sabinamunoz/lab-inferential-statistics/blob/master/lab_inferential_statistics.ipynb\" target=\"_parent\"><img src=\"https://colab.research.google.com/assets/colab-badge.svg\" alt=\"Open In Colab\"/></a>"
      ]
    },
    {
      "cell_type": "markdown",
      "source": [
        "# Lab | Inferential statistics\n",
        "\n",
        "\n",
        "### Instructions\n",
        "\n",
        "1. It is assumed that the mean systolic blood pressure is `μ = 120 mm Hg`. In the Honolulu Heart Study, a sample of `n = 100` people had an average systolic blood pressure of 130.1 mm Hg with a standard deviation of 21.21 mm Hg. Is the group significantly different (with respect to systolic blood pressure!) from the regular population?\n",
        "\n",
        "   - Set up the hypothesis test.\n",
        "   - Write down all the steps followed for setting up the test.\n",
        "   - Calculate the test statistic by hand and also code it in Python. It should be 4.76190. We will take a look at how to make decisions based on this calculated value.\n",
        "\n",
        "2. If you finished the previous question, please go through the code for `principal_component_analysis_example` provided in the `files_for_lab` folder .\n"
      ],
      "metadata": {
        "id": "yqPtPlK8W96r"
      }
    },
    {
      "cell_type": "markdown",
      "source": [
        "**1. Set up the hypothesis test**\n",
        "- Null hypothesis\n",
        "\n",
        " H0: u = 120\n",
        "- Alternative hypothesis\n",
        "  \n",
        "  Ha: u > 120\n",
        "\n"
      ],
      "metadata": {
        "id": "71-6EDnJXvkB"
      }
    },
    {
      "cell_type": "markdown",
      "source": [
        "**2. Write down all the steps**\n",
        "\n",
        "- One-tailed test: checking if the mean of the population sample is higher than the mean of the overall population\n",
        "\n",
        "- T-test: standard deviation is known, assuming sample is normally distributed\n",
        "Level of significance\n",
        "\n",
        "- 0.05 threshold\n",
        "Calculate test statistics according to t-table\n",
        "\n",
        "- Conclusion based on critical region"
      ],
      "metadata": {
        "id": "iilKmRE2c9Dz"
      }
    },
    {
      "cell_type": "markdown",
      "source": [
        "**3. Calculate the test statistic**"
      ],
      "metadata": {
        "id": "hU4k1ZBIdEHZ"
      }
    },
    {
      "cell_type": "code",
      "source": [
        "import math\n",
        "from scipy.stats import ttest_ind, norm"
      ],
      "metadata": {
        "id": "6q7AlO2pXBPu"
      },
      "execution_count": 1,
      "outputs": []
    },
    {
      "cell_type": "code",
      "source": [
        "pop_mean = 120\n",
        "\n",
        "n = 100\n",
        "sample_mean = 130.1\n",
        "sample_std = 21.21\n",
        "\n",
        "statistic = (sample_mean - pop_mean)/(sample_std/math.sqrt(n))\n",
        "statistic"
      ],
      "metadata": {
        "colab": {
          "base_uri": "https://localhost:8080/"
        },
        "id": "QVgfoK6wdMeD",
        "outputId": "1751eb5d-100a-4bc3-cf90-a99b60b867ca"
      },
      "execution_count": 2,
      "outputs": [
        {
          "output_type": "execute_result",
          "data": {
            "text/plain": [
              "4.761904761904759"
            ]
          },
          "metadata": {},
          "execution_count": 2
        }
      ]
    },
    {
      "cell_type": "markdown",
      "source": [
        "**T-table: one-tailed alpha 0.05 99DF = 1.66**\n",
        "\n",
        "4.76 > 1.66 - null hypothesis rejected with 95% confidence"
      ],
      "metadata": {
        "id": "QthWe8CHdVDs"
      }
    }
  ]
}